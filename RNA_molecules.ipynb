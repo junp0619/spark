{
 "cells": [
  {
   "cell_type": "code",
   "execution_count": 50,
   "metadata": {},
   "outputs": [],
   "source": [
    "import pandas as pd\n"
   ]
  },
  {
   "cell_type": "code",
   "execution_count": 62,
   "metadata": {},
   "outputs": [],
   "source": [
    "table = pd.read_excel(    #reaed excel function reads following file\n",
    "    io='RNA_molecules_data.xltm', #opens file of table\n",
    "    sheet_name='Sheet1',\n",
    "    usecols=[\n",
    "        'Gene Names',    #these are the column names used by sheet\n",
    "        'Protein copy number average [molecules/cell]',\n",
    "        'mRNA copy number average [molecules/cell]'\n",
    "    ]\n",
    ").rename(columns={    #then you rename column names as desired\n",
    "    'Gene Names': 'Gene Name',\n",
    "    'Protein copy number average [molecules/cell]': 'Protein Copy',\n",
    "    'mRNA copy number average [molecules/cell]': 'mRNA Copy'\n",
    "})\n",
    "#this makes the table"
   ]
  },
  {
   "cell_type": "code",
   "execution_count": 63,
   "metadata": {},
   "outputs": [],
   "source": [
    "transcript_length = pd.read_csv(\n",
    "    \"summer_gene_expression/data/from_tstoeger/200609_transcript_lengths/mouse.csv\")\n",
    "merged = pd.merge(  #will merge the following:\n",
    "    left=table,\n",
    "    right=transcript_length.rename(columns={\n",
    "        'gene_ncbi': 'Gene ID',\n",
    "        'symbol_ncbi': 'Gene Name',\n",
    "        'transcript_length': 'Transcript Length'\n",
    "    })\n",
    ")\n",
    "#this merges with transcript length"
   ]
  },
  {
   "cell_type": "code",
   "execution_count": 64,
   "metadata": {},
   "outputs": [
    {
     "data": {
      "text/html": [
       "<div>\n",
       "<style scoped>\n",
       "    .dataframe tbody tr th:only-of-type {\n",
       "        vertical-align: middle;\n",
       "    }\n",
       "\n",
       "    .dataframe tbody tr th {\n",
       "        vertical-align: top;\n",
       "    }\n",
       "\n",
       "    .dataframe thead th {\n",
       "        text-align: right;\n",
       "    }\n",
       "</style>\n",
       "<table border=\"1\" class=\"dataframe\">\n",
       "  <thead>\n",
       "    <tr style=\"text-align: right;\">\n",
       "      <th></th>\n",
       "      <th>Protein Copy</th>\n",
       "      <th>mRNA Copy</th>\n",
       "      <th>Gene ID</th>\n",
       "      <th>Transcript Length</th>\n",
       "    </tr>\n",
       "  </thead>\n",
       "  <tbody>\n",
       "    <tr>\n",
       "      <th>Protein Copy</th>\n",
       "      <td>1.000000</td>\n",
       "      <td>0.574122</td>\n",
       "      <td>-0.162045</td>\n",
       "      <td>-0.364041</td>\n",
       "    </tr>\n",
       "    <tr>\n",
       "      <th>mRNA Copy</th>\n",
       "      <td>0.574122</td>\n",
       "      <td>1.000000</td>\n",
       "      <td>-0.222308</td>\n",
       "      <td>-0.281542</td>\n",
       "    </tr>\n",
       "    <tr>\n",
       "      <th>Gene ID</th>\n",
       "      <td>-0.162045</td>\n",
       "      <td>-0.222308</td>\n",
       "      <td>1.000000</td>\n",
       "      <td>0.115053</td>\n",
       "    </tr>\n",
       "    <tr>\n",
       "      <th>Transcript Length</th>\n",
       "      <td>-0.364041</td>\n",
       "      <td>-0.281542</td>\n",
       "      <td>0.115053</td>\n",
       "      <td>1.000000</td>\n",
       "    </tr>\n",
       "  </tbody>\n",
       "</table>\n",
       "</div>"
      ],
      "text/plain": [
       "                   Protein Copy  mRNA Copy   Gene ID  Transcript Length\n",
       "Protein Copy           1.000000   0.574122 -0.162045          -0.364041\n",
       "mRNA Copy              0.574122   1.000000 -0.222308          -0.281542\n",
       "Gene ID               -0.162045  -0.222308  1.000000           0.115053\n",
       "Transcript Length     -0.364041  -0.281542  0.115053           1.000000"
      ]
     },
     "execution_count": 64,
     "metadata": {},
     "output_type": "execute_result"
    }
   ],
   "source": [
    "#this is a table for correlation\n",
    "corr = merged.corr(method=\"spearman\")\n",
    "corr"
   ]
  },
  {
   "cell_type": "code",
   "execution_count": null,
   "metadata": {},
   "outputs": [],
   "source": [
    "'create scatter plot for correlation: set log scale for transcript length;'\n",
    "%matplotlib inline\n",
    "import matplotlib.pyplot as plt"
   ]
  },
  {
   "cell_type": "code",
   "execution_count": 73,
   "metadata": {},
   "outputs": [
    {
     "data": {
      "image/png": "[encoded data removed]",
      "text/plain": [
       "<Figure size 720x432 with 1 Axes>"
      ]
     },
     "metadata": {
      "needs_background": "light"
     },
     "output_type": "display_data"
    }
   ],
   "source": [
    "fig = plt.figure(figsize = (10, 6))\n",
    "ax = fig.add_subplot(1, 1, 1)\n",
    "ax.scatter(merged[\"mRNA Copy\"], merged[\"Transcript Length\"], color='Green')\n",
    "#Labels\n",
    "ax.set_xlabel('Transcript Length', fontsize = 15)\n",
    "ax.set_ylabel('mRNA Copy', fontsize = 15)\n",
    "ax.set_xscale('log')\n",
    "##"
   ]
  },
  {
   "cell_type": "code",
   "execution_count": 51,
   "metadata": {},
   "outputs": [],
   "source": [
    "# wb = xlrd.open_workbook('RNA_molecules_data.xltm') #this opens the file im reading\n",
    "# sheet = wb.sheet_by_index(0)            #this \"sheet_by_index\" command extracts the nth sheet in the workbook. \n",
    "# #in this case, there was only 1 sheet inside the workbook so i put \"0\" to extract the first sheet in workbook\n",
    "# table = pd.DataFrame({\"Protein ID\": sheet.col_values(0, 1),#DataFrame is formatted this way with column:rows\n",
    "#                       \"Protein Name\": sheet.col_values(1, 1),\n",
    "#                       \"Protein Copy\": sheet.col_values(13, 1),\n",
    "#                       \"mRNA Copy\": sheet.col_values(16, 1),\n",
    "#                       \"Gene Name\": [i.split(\";\")[0].upper() for i in sheet.col_values(2,1)]},\n",
    "#                     index = [i for i in range(0, sheet.nrows-1)])\n",
    "\n",
    "# table = table.replace(\"NA\", np.nan)"
   ]
  },
  {
   "cell_type": "code",
   "execution_count": 61,
   "metadata": {},
   "outputs": [],
   "source": [
    "# transcript_length = pd.read_csv(\"summer_gene_expression/data/from_tstoeger/200609_transcript_lengths/human.csv\")\n",
    "# transcript_length.columns = [\"Gene ID\", \"Gene Name\", \"Transcript Length\"]\n",
    "# merged = pd.merge(table, transcript_length, on=\"Gene Name\", how=\"inner\")\n",
    "# merged"
   ]
  },
  {
   "cell_type": "code",
   "execution_count": null,
   "metadata": {},
   "outputs": [],
   "source": []
  }
 ],
 "metadata": {
  "kernelspec": {
   "display_name": "Python 3",
   "language": "python",
   "name": "python3"
  },
  "language_info": {
   "codemirror_mode": {
    "name": "ipython",
    "version": 3
   },
   "file_extension": ".py",
   "mimetype": "text/x-python",
   "name": "python",
   "nbconvert_exporter": "python",
   "pygments_lexer": "ipython3",
   "version": "3.7.6"
  }
 },
 "nbformat": 4,
 "nbformat_minor": 4
}
